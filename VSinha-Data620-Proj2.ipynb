{
 "cells": [
  {
   "cell_type": "markdown",
   "metadata": {},
   "source": [
    " ### Introduction\n",
    "\n",
    " This dataset is from the Stanford Network Analysis Project. It consists of customer reviews of \n",
    " food products sold at Amazon.\n",
    " \n",
    " The following description is copied from \n",
    " https://snap.stanford.edu/data/web-FineFoods.html:\n",
    "\n",
    "     This dataset consists of reviews of fine foods from Amazon.\n",
    "     The data span a period of more than 10 years, including all ~500,000\n",
    "     reviews up to October 2012. Reviews include product and user information,\n",
    "     ratings, and a plaintext review.\n",
    "   \n",
    "Each review contains a number of fields, including IDs of the product and the reviewer, as well as a\n",
    "score assigned to the product by the reviewer. The review score ranges from 1 to 5, with higher scores\n",
    "implying more favorable reviews.\n",
    "\n",
    "This is a 2-mode network. We transform it into a 1-mode network for analysis."
   ]
  },
  {
   "cell_type": "code",
   "execution_count": 101,
   "metadata": {},
   "outputs": [],
   "source": [
    "import sys\n",
    "import pandas as pd\n",
    "import numpy as np\n",
    "import math\n",
    "import matplotlib.pyplot as plt\n",
    "import networkx as nx\n",
    "from networkx import algorithms\n",
    "import collections\n",
    "\n",
    "## Import bi-partite (bi-modal) functions\n",
    "from networkx.algorithms import bipartite as bi\n",
    "\n",
    "from IPython.core.interactiveshell import InteractiveShell\n",
    "InteractiveShell.ast_node_interactivity = \"all\"\n",
    "%matplotlib inline"
   ]
  },
  {
   "cell_type": "markdown",
   "metadata": {},
   "source": [
    "### Read text file\n",
    "\n",
    "The file contains about 5M lines. In this project we use only one-fifth of the file.\n",
    "We form graphs for user products reviews, and also two additional graphs that include\n",
    "only those reviews that gave a high rating score (>= 4/5) and low ratings score (<= 1/5)."
   ]
  },
  {
   "cell_type": "code",
   "execution_count": 102,
   "metadata": {},
   "outputs": [
    {
     "name": "stdout",
     "output_type": "stream",
     "text": [
      "lines = 1000003\n"
     ]
    }
   ],
   "source": [
    "li = 0\n",
    "Products = list()\n",
    "Users = list()\n",
    "\n",
    "gg = nx.Graph()\n",
    "\n",
    "# Like == score is >= 4\n",
    "likes = nx.Graph()\n",
    "# Dislike == score is <= 1\n",
    "dislikes = nx.Graph()\n",
    "\n",
    "Users_likes = list()\n",
    "Users_dislikes = list()\n",
    "\n",
    "with open(\"data/finefoods.txt\", \"r\", encoding=\"latin-1\") as myfile:\n",
    "    while True:\n",
    "        li = li + 1\n",
    "        if li > 1000000:\n",
    "            break\n",
    "        entry = [None] * 4\n",
    "        for i in range(0, 9):\n",
    "            i1 = i2 = i3 = i4 = -1\n",
    "            myline = myfile.readline()\n",
    "            if not myline:\n",
    "                break\n",
    "            i1 = myline.find(\"product/productId: \")\n",
    "            if i1 != -1:\n",
    "                prod = myline[i1 + 1 + 18:]\n",
    "                entry[0] = prod.rstrip()\n",
    "                continue\n",
    "            i2 = myline.find(\"review/userId: \")\n",
    "            if i2 != -1:\n",
    "                user = myline[i2 + 1 + 14:]\n",
    "                entry[1] = user.rstrip()\n",
    "                continue\n",
    "            i3 = myline.find(\"review/helpfulness: \")\n",
    "            if i3 != -1:\n",
    "                helpfulness = myline[i3 + 1 + 19:]\n",
    "                entry[2] = helpfulness\n",
    "                continue\n",
    "            i4 = myline.find(\"review/score: \")\n",
    "            if i4 != -1:\n",
    "                score = math.floor(float(myline[i4 + 1 + 13:]))\n",
    "                entry[3] = score\n",
    "                continue\n",
    "            li = li + 1\n",
    "\n",
    "        if entry[3] is None:\n",
    "            break\n",
    "        else:\n",
    "            entry = [None] * 4\n",
    "            if prod not in Products:\n",
    "                Products.append(prod)\n",
    "            if user not in Users:\n",
    "                Users.append(user)\n",
    "                if score >= 4:\n",
    "                    Users_likes.append(user)\n",
    "                    likes.add_edge(user, prod, weight=score)\n",
    "                if score <= 1:\n",
    "                    Users_dislikes.append(user)\n",
    "                    dislikes.add_edge(user, prod, weight=score)\n",
    "            gg.add_edge(user, prod, weight=score)\n",
    "\n",
    "\n",
    "print(\"lines = {0}\" .format(li))"
   ]
  },
  {
   "cell_type": "code",
   "execution_count": 151,
   "metadata": {},
   "outputs": [
    {
     "name": "stdout",
     "output_type": "stream",
     "text": [
      "Number of nodes: 127940\n",
      "Number of edges: 164281\n",
      "Number of users: 106629\n",
      "Number of products: 21311\n"
     ]
    }
   ],
   "source": [
    "# Nodes here includes both users and products (since gg is not a bipartite graph)\n",
    "print(\"Number of nodes: {0}\" .format(gg.number_of_nodes()))\n",
    "print(\"Number of edges: {0}\" .format(gg.number_of_edges()))\n",
    "\n",
    "print(\"Number of users: {0}\" .format(len(Users)))\n",
    "print(\"Number of products: {0}\" .format(len(Products)))"
   ]
  },
  {
   "cell_type": "code",
   "execution_count": 142,
   "metadata": {},
   "outputs": [],
   "source": [
    "### User networks\n",
    "\n",
    "# A projection of a bipartite graph is a graph of nodes from one partition, where\n",
    "# each edge between nodes implies a common neighbor in the other partition.\n",
    "\n",
    "# In this case, two users are connected if they have reviewed a common product.\n",
    "Unet = bi.weighted_projected_graph(gg, Users, ratio=False)\n",
    "\n",
    "### Product networks\n",
    "Pnet = bi.weighted_projected_graph(gg, Products, ratio=False)"
   ]
  },
  {
   "cell_type": "code",
   "execution_count": 143,
   "metadata": {},
   "outputs": [
    {
     "data": {
      "text/plain": [
       "5605094"
      ]
     },
     "execution_count": 143,
     "metadata": {},
     "output_type": "execute_result"
    },
    {
     "data": {
      "text/plain": [
       "106629"
      ]
     },
     "execution_count": 143,
     "metadata": {},
     "output_type": "execute_result"
    },
    {
     "data": {
      "text/plain": [
       "150057"
      ]
     },
     "execution_count": 143,
     "metadata": {},
     "output_type": "execute_result"
    },
    {
     "data": {
      "text/plain": [
       "21311"
      ]
     },
     "execution_count": 143,
     "metadata": {},
     "output_type": "execute_result"
    }
   ],
   "source": [
    "Unet.number_of_edges()\n",
    "Unet.number_of_nodes()\n",
    "Pnet.number_of_edges()\n",
    "Pnet.number_of_nodes()"
   ]
  },
  {
   "cell_type": "code",
   "execution_count": 144,
   "metadata": {
    "scrolled": true
   },
   "outputs": [
    {
     "name": "stderr",
     "output_type": "stream",
     "text": [
      "/usr/local/lib/python3.6/dist-packages/networkx/drawing/nx_pylab.py:611: MatplotlibDeprecationWarning: isinstance(..., numbers.Number)\n",
      "  if cb.is_numlike(alpha):\n"
     ]
    },
    {
     "data": {
      "image/png": "[encoded data removed]",
      "text/plain": [
       "<Figure size 432x288 with 1 Axes>"
      ]
     },
     "metadata": {},
     "output_type": "display_data"
    }
   ],
   "source": [
    "# Update position for node from each group\n",
    "pos = {}\n",
    "pos.update((node, (1, index)) for index, node in enumerate(Users))\n",
    "pos.update((node, (2, index)) for index, node in enumerate(Products))\n",
    "\n",
    "nx.draw(B, pos=pos)\n",
    "plt.show()"
   ]
  },
  {
   "cell_type": "markdown",
   "metadata": {},
   "source": [
    "We now reduce the size of the graphs to include only extreme values of rating scores. Rating scores\n",
    "range from 1 to 5. We can define a network **Likes** based on scores of 4 or above, and **Dislikes** based\n",
    "on scores of 1 or below."
   ]
  },
  {
   "cell_type": "code",
   "execution_count": 114,
   "metadata": {},
   "outputs": [],
   "source": [
    "# Like == score is >= 4\n",
    "Unet_likes = bi.weighted_projected_graph(likes, Users_likes, ratio=False)\n",
    "\n",
    "# Dislike == score is <= 1\n",
    "Unet_dislikes = bi.weighted_projected_graph(dislikes, Users_dislikes, ratio=False)"
   ]
  },
  {
   "cell_type": "code",
   "execution_count": 149,
   "metadata": {},
   "outputs": [
    {
     "name": "stdout",
     "output_type": "stream",
     "text": [
      "Main Graph: nodes=106629 edges=5605094\n",
      "High Ratings Graph: nodes=82715 edges=2092704\n",
      "Low Ratings Graph: nodes=11025 edges=61812\n"
     ]
    }
   ],
   "source": [
    "print(\"Main Graph: nodes={0} edges={1}\" .format(Unet.number_of_nodes(), Unet.number_of_edges()))\n",
    "print(\"High Ratings Graph: nodes={0} edges={1}\" .format(Unet_likes.number_of_nodes(), Unet_likes.number_of_edges()))\n",
    "print(\"Low Ratings Graph: nodes={0} edges={1}\" .format(Unet_dislikes.number_of_nodes(), Unet_dislikes.number_of_edges()))"
   ]
  },
  {
   "cell_type": "markdown",
   "metadata": {},
   "source": [
    "### Clustering coefficient\n",
    "\n",
    "Clustering coefficient is a measure of the degree to which nodes in a graph tend to cluster together.\n",
    "We compute clustering coefficients for the main graph and the two graphs for high and low ratings."
   ]
  },
  {
   "cell_type": "code",
   "execution_count": 124,
   "metadata": {},
   "outputs": [],
   "source": [
    "ac1 = nx.average_clustering(Unet)\n",
    "ac2 = nx.average_clustering(Unet_likes)\n",
    "ac3 = nx.average_clustering(Unet_dislikes)"
   ]
  },
  {
   "cell_type": "code",
   "execution_count": 140,
   "metadata": {},
   "outputs": [
    {
     "name": "stdout",
     "output_type": "stream",
     "text": [
      "Average clustering for User bipartite graph:       0.85\n",
      "Average clustering for User bipartite graph for Likes:       0.85\n",
      "Average clustering for User bipartite graph for Dislikes:       0.57\n"
     ]
    }
   ],
   "source": [
    "print(\"Average clustering for User bipartite graph: {0:10.2}\" .format(ac1))\n",
    "print(\"Average clustering for User bipartite graph for Likes: {0:10.2}\" .format(ac2))\n",
    "print(\"Average clustering for User bipartite graph for Dislikes: {0:10.2}\" .format(ac3))"
   ]
  },
  {
   "cell_type": "markdown",
   "metadata": {},
   "source": [
    "### Degree Distribution\n",
    "We plot the degree distribution for the main bipartite graph, as well as the graph for Likes (higher ratings scores) and dislikes (lower ratings scores)."
   ]
  },
  {
   "cell_type": "code",
   "execution_count": 129,
   "metadata": {},
   "outputs": [],
   "source": [
    "def plot_degree_dist(G):\n",
    "    degrees = [G.degree(n) for n in G.nodes()]\n",
    "    plt.hist(degrees)\n",
    "    plt.show()"
   ]
  },
  {
   "cell_type": "code",
   "execution_count": 131,
   "metadata": {},
   "outputs": [
    {
     "data": {
      "image/png": "[encoded data removed]",
      "text/plain": [
       "<Figure size 432x288 with 1 Axes>"
      ]
     },
     "metadata": {},
     "output_type": "display_data"
    },
    {
     "data": {
      "image/png": "[encoded data removed]",
      "text/plain": [
       "<Figure size 432x288 with 1 Axes>"
      ]
     },
     "metadata": {},
     "output_type": "display_data"
    },
    {
     "data": {
      "image/png": "[encoded data removed]",
      "text/plain": [
       "<Figure size 432x288 with 1 Axes>"
      ]
     },
     "metadata": {},
     "output_type": "display_data"
    }
   ],
   "source": [
    "plot_degree_dist(Unet)\n",
    "plot_degree_dist(Unet_likes)\n",
    "plot_degree_dist(Unet_dislikes)"
   ]
  },
  {
   "cell_type": "markdown",
   "metadata": {},
   "source": [
    "### References\n",
    "\n",
    "1. https://www.coursera.org/lecture/python-social-network-analysis/bipartite-graphs-tWwx2\n",
    "2. https://networkx.github.io/documentation/stable/reference/index.html"
   ]
  }
 ],
 "metadata": {
  "kernelspec": {
   "display_name": "Python 3",
   "language": "python",
   "name": "python3"
  },
  "language_info": {
   "codemirror_mode": {
    "name": "ipython",
    "version": 3
   },
   "file_extension": ".py",
   "mimetype": "text/x-python",
   "name": "python",
   "nbconvert_exporter": "python",
   "pygments_lexer": "ipython3",
   "version": "3.6.8"
  }
 },
 "nbformat": 4,
 "nbformat_minor": 2
}
