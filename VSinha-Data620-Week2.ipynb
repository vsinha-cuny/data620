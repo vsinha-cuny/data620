{
 "cells": [
  {
   "cell_type": "code",
   "execution_count": null,
   "metadata": {},
   "outputs": [],
   "source": [
    "import networkx as nx\n",
    "import matplotlib.pyplot as plt"
   ]
  },
  {
   "cell_type": "code",
   "execution_count": null,
   "metadata": {},
   "outputs": [],
   "source": [
    "G = nx.krackhardt_kite_graph()"
   ]
  },
  {
   "cell_type": "code",
   "execution_count": null,
   "metadata": {},
   "outputs": [],
   "source": [
    "# Andre=1, Beverley=2, Carol=3, Diane=4, Ed=5, Fernando=6, Garth=7, Heather=8, Ike=9, Jane=10\n",
    "labels={}\n",
    "labels[0]=\"Andre\"\n",
    "labels[1]=\"Beverly\"\n",
    "labels[2]=\"Carol\"\n",
    "labels[3]=\"Diane\"\n",
    "labels[4]=\"Ed\"\n",
    "labels[5]=\"Fernando\"\n",
    "labels[6]=\"Garth\"\n",
    "labels[7]=\"Heather\"\n",
    "labels[8]=\"Ike\"\n",
    "labels[9]=\"Jane\"\n",
    "#labels\n",
    "\n",
    "H = nx.relabel_nodes(G, labels)\n",
    "nx.draw_networkx(H)"
   ]
  }
 ],
 "metadata": {
  "kernelspec": {
   "display_name": "Python 3",
   "language": "python",
   "name": "python3"
  },
  "language_info": {
   "codemirror_mode": {
    "name": "ipython",
    "version": 3
   },
   "file_extension": ".py",
   "mimetype": "text/x-python",
   "name": "python",
   "nbconvert_exporter": "python",
   "pygments_lexer": "ipython3",
   "version": "3.6.7"
  }
 },
 "nbformat": 4,
 "nbformat_minor": 2
}
