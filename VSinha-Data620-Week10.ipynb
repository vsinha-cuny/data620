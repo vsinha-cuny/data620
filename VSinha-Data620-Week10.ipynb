{
 "cells": [
  {
   "cell_type": "markdown",
   "metadata": {},
   "source": [
    "*Data 620 Assignment Week 10: Document Classification*\n",
    "    - Vikas Sinha\n",
    "    - 11/10/2019\n",
    "\n",
    "Objective: Use of Machine Learning document classifiers to classify emails into Spam and Non-spam (ham) categories"
   ]
  },
  {
   "cell_type": "code",
   "execution_count": 4,
   "metadata": {},
   "outputs": [],
   "source": [
    "import pandas as pd\n",
    "import numpy as np\n",
    "import matplotlib.pyplot as plt\n",
    "import operator\n",
    "import xgboost as xgb\n",
    "from sklearn.metrics import confusion_matrix\n",
    "from sklearn.model_selection import train_test_split\n",
    "from xgboost import XGBClassifier\n",
    "from sklearn.metrics import accuracy_score\n",
    "\n",
    "from IPython.core.interactiveshell import InteractiveShell\n",
    "InteractiveShell.ast_node_interactivity = \"all\""
   ]
  },
  {
   "cell_type": "markdown",
   "metadata": {},
   "source": [
    "*** In this project we use the UCI Spambase dataset to classify spam and non-spam emails. ***\n",
    "\n",
    "The database is available from the following URL:\n",
    "http://archive.ics.uci.edu/ml/datasets/Spambase"
   ]
  },
  {
   "cell_type": "code",
   "execution_count": 5,
   "metadata": {},
   "outputs": [],
   "source": [
    "# Read the spam data\n",
    "d1 = pd.read_csv(\"data/spambase.data\", header=None)"
   ]
  },
  {
   "cell_type": "markdown",
   "metadata": {},
   "source": [
    "Examine the dimensions of the dataset, which includes both categories (spam and non-spam)."
   ]
  },
  {
   "cell_type": "code",
   "execution_count": 6,
   "metadata": {},
   "outputs": [
    {
     "data": {
      "text/plain": [
       "(4601, 58)"
      ]
     },
     "execution_count": 6,
     "metadata": {},
     "output_type": "execute_result"
    }
   ],
   "source": [
    "d1.shape"
   ]
  },
  {
   "cell_type": "markdown",
   "metadata": {},
   "source": [
    "** Attribute Information: **\n",
    "\n",
    "The last column of 'spambase.data' denotes whether the e-mail was considered spam (1) or not (0), i.e. unsolicited commercial e-mail. Most of the attributes indicate whether a particular word or character was frequently occuring in the e-mail. The run-length attributes (55-57) measure the length of sequences of consecutive capital letters. For the statistical measures of each attribute, see the end of this file. Here are the definitions of the attributes:\n",
    "\n",
    "48 continuous real [0,100] attributes of type word_freq_WORD\n",
    "= percentage of words in the e-mail that match WORD, i.e. 100 * (number of times the WORD appears in the e-mail) / total number of words in e-mail. A \"word\" in this case is any string of alphanumeric characters bounded by non-alphanumeric characters or end-of-string.\n",
    "\n",
    "6 continuous real [0,100] attributes of type char_freq_CHAR]\n",
    "= percentage of characters in the e-mail that match CHAR, i.e. 100 * (number of CHAR occurences) / total characters in e-mail\n",
    "\n",
    "1 continuous real [1,...] attribute of type capital_run_length_average\n",
    "= average length of uninterrupted sequences of capital letters\n",
    "\n",
    "1 continuous integer [1,...] attribute of type capital_run_length_longest\n",
    "= length of longest uninterrupted sequence of capital letters\n",
    "\n",
    "1 continuous integer [1,...] attribute of type capital_run_length_total\n",
    "= sum of length of uninterrupted sequences of capital letters\n",
    "= total number of capital letters in the e-mail\n",
    "\n",
    "1 nominal {0,1} class attribute of type spam\n",
    "= denotes whether the e-mail was considered spam (1) or not (0), i.e. unsolicited commercial e-mail. "
   ]
  },
  {
   "cell_type": "markdown",
   "metadata": {},
   "source": [
    "I renamed the columns below, based on the file *spambase.DOCUMENTATION*, to allow easier interpretability. Names of input features related to word frequencies are prefixed with \"wf\\_\", features related frequencies of specific characters are prefixed with \"cf\\_\". "
   ]
  },
  {
   "cell_type": "code",
   "execution_count": 7,
   "metadata": {},
   "outputs": [],
   "source": [
    "# Rename the columns.\n",
    "# wf -> word frequency\n",
    "# cf -> char frequency\n",
    "features = [\n",
    "    \"wf_make\",    \n",
    "    \"wf_address\",    \n",
    "    \"wf_all\",    \n",
    "    \"wf_3d\",    \n",
    "    \"wf_our\",    \n",
    "    \"wf_over\",    \n",
    "    \"wf_remove\",    \n",
    "    \"wf_internet\",    \n",
    "    \"wf_order\",    \n",
    "    \"wf_mail\",    \n",
    "    \"wf_receive\",    \n",
    "    \"wf_will\",    \n",
    "    \"wf_people\",    \n",
    "    \"wf_report\",    \n",
    "    \"wf_addresses\",    \n",
    "    \"wf_free\",    \n",
    "    \"wf_business\",    \n",
    "    \"wf_email\",    \n",
    "    \"wf_you\",    \n",
    "    \"wf_credit\",    \n",
    "    \"wf_your\",    \n",
    "    \"wf_font\",    \n",
    "    \"wf_000\",    \n",
    "    \"wf_money\",    \n",
    "    \"wf_hp\",    \n",
    "    \"wf_hpl\",    \n",
    "    \"wf_george\",    \n",
    "    \"wf_650\",    \n",
    "    \"wf_lab\",    \n",
    "    \"wf_labs\",    \n",
    "    \"wf_telnet\",    \n",
    "    \"wf_857\",    \n",
    "    \"wf_data\",    \n",
    "    \"wf_415\",    \n",
    "    \"wf_85\",    \n",
    "    \"wf_technology\",   \n",
    "    \"wf_1999\",    \n",
    "    \"wf_parts\",    \n",
    "    \"wf_pm\",    \n",
    "    \"wf_direct\",    \n",
    "    \"wf_cs\",    \n",
    "    \"wf_meeting\",    \n",
    "    \"wf_original\",    \n",
    "    \"wf_project\",    \n",
    "    \"wf_re\",    \n",
    "    \"wf_edu\",    \n",
    "    \"wf_table\",    \n",
    "    \"wf_conference\",   \n",
    "    \"cf_semic\",    \n",
    "    \"cf_lpara\",    \n",
    "    \"cf_lbraket\",\n",
    "    \"cf_excla\",\n",
    "    \"cf_dollar\",\n",
    "    \"cf_hash\",\n",
    "    \"cap_rl_ave\",\n",
    "    \"cap_rl_longest\",\n",
    "    \"cap_rl_total\"\n",
    "]"
   ]
  },
  {
   "cell_type": "code",
   "execution_count": 10,
   "metadata": {},
   "outputs": [
    {
     "data": {
      "text/html": [
       "<div>\n",
       "<style scoped>\n",
       "    .dataframe tbody tr th:only-of-type {\n",
       "        vertical-align: middle;\n",
       "    }\n",
       "\n",
       "    .dataframe tbody tr th {\n",
       "        vertical-align: top;\n",
       "    }\n",
       "\n",
       "    .dataframe thead th {\n",
       "        text-align: right;\n",
       "    }\n",
       "</style>\n",
       "<table border=\"1\" class=\"dataframe\">\n",
       "  <thead>\n",
       "    <tr style=\"text-align: right;\">\n",
       "      <th></th>\n",
       "      <th>wf_make</th>\n",
       "      <th>wf_address</th>\n",
       "      <th>wf_all</th>\n",
       "      <th>wf_3d</th>\n",
       "      <th>wf_our</th>\n",
       "      <th>wf_over</th>\n",
       "      <th>wf_remove</th>\n",
       "      <th>wf_internet</th>\n",
       "      <th>wf_order</th>\n",
       "      <th>wf_mail</th>\n",
       "      <th>...</th>\n",
       "      <th>cf_semic</th>\n",
       "      <th>cf_lpara</th>\n",
       "      <th>cf_lbraket</th>\n",
       "      <th>cf_excla</th>\n",
       "      <th>cf_dollar</th>\n",
       "      <th>cf_hash</th>\n",
       "      <th>cap_rl_ave</th>\n",
       "      <th>cap_rl_longest</th>\n",
       "      <th>cap_rl_total</th>\n",
       "      <th>spam</th>\n",
       "    </tr>\n",
       "  </thead>\n",
       "  <tbody>\n",
       "    <tr>\n",
       "      <th>0</th>\n",
       "      <td>0.00</td>\n",
       "      <td>0.64</td>\n",
       "      <td>0.64</td>\n",
       "      <td>0.0</td>\n",
       "      <td>0.32</td>\n",
       "      <td>0.00</td>\n",
       "      <td>0.00</td>\n",
       "      <td>0.00</td>\n",
       "      <td>0.00</td>\n",
       "      <td>0.00</td>\n",
       "      <td>...</td>\n",
       "      <td>0.00</td>\n",
       "      <td>0.000</td>\n",
       "      <td>0.0</td>\n",
       "      <td>0.778</td>\n",
       "      <td>0.000</td>\n",
       "      <td>0.000</td>\n",
       "      <td>3.756</td>\n",
       "      <td>61</td>\n",
       "      <td>278</td>\n",
       "      <td>1</td>\n",
       "    </tr>\n",
       "    <tr>\n",
       "      <th>1</th>\n",
       "      <td>0.21</td>\n",
       "      <td>0.28</td>\n",
       "      <td>0.50</td>\n",
       "      <td>0.0</td>\n",
       "      <td>0.14</td>\n",
       "      <td>0.28</td>\n",
       "      <td>0.21</td>\n",
       "      <td>0.07</td>\n",
       "      <td>0.00</td>\n",
       "      <td>0.94</td>\n",
       "      <td>...</td>\n",
       "      <td>0.00</td>\n",
       "      <td>0.132</td>\n",
       "      <td>0.0</td>\n",
       "      <td>0.372</td>\n",
       "      <td>0.180</td>\n",
       "      <td>0.048</td>\n",
       "      <td>5.114</td>\n",
       "      <td>101</td>\n",
       "      <td>1028</td>\n",
       "      <td>1</td>\n",
       "    </tr>\n",
       "    <tr>\n",
       "      <th>2</th>\n",
       "      <td>0.06</td>\n",
       "      <td>0.00</td>\n",
       "      <td>0.71</td>\n",
       "      <td>0.0</td>\n",
       "      <td>1.23</td>\n",
       "      <td>0.19</td>\n",
       "      <td>0.19</td>\n",
       "      <td>0.12</td>\n",
       "      <td>0.64</td>\n",
       "      <td>0.25</td>\n",
       "      <td>...</td>\n",
       "      <td>0.01</td>\n",
       "      <td>0.143</td>\n",
       "      <td>0.0</td>\n",
       "      <td>0.276</td>\n",
       "      <td>0.184</td>\n",
       "      <td>0.010</td>\n",
       "      <td>9.821</td>\n",
       "      <td>485</td>\n",
       "      <td>2259</td>\n",
       "      <td>1</td>\n",
       "    </tr>\n",
       "    <tr>\n",
       "      <th>3</th>\n",
       "      <td>0.00</td>\n",
       "      <td>0.00</td>\n",
       "      <td>0.00</td>\n",
       "      <td>0.0</td>\n",
       "      <td>0.63</td>\n",
       "      <td>0.00</td>\n",
       "      <td>0.31</td>\n",
       "      <td>0.63</td>\n",
       "      <td>0.31</td>\n",
       "      <td>0.63</td>\n",
       "      <td>...</td>\n",
       "      <td>0.00</td>\n",
       "      <td>0.137</td>\n",
       "      <td>0.0</td>\n",
       "      <td>0.137</td>\n",
       "      <td>0.000</td>\n",
       "      <td>0.000</td>\n",
       "      <td>3.537</td>\n",
       "      <td>40</td>\n",
       "      <td>191</td>\n",
       "      <td>1</td>\n",
       "    </tr>\n",
       "    <tr>\n",
       "      <th>4</th>\n",
       "      <td>0.00</td>\n",
       "      <td>0.00</td>\n",
       "      <td>0.00</td>\n",
       "      <td>0.0</td>\n",
       "      <td>0.63</td>\n",
       "      <td>0.00</td>\n",
       "      <td>0.31</td>\n",
       "      <td>0.63</td>\n",
       "      <td>0.31</td>\n",
       "      <td>0.63</td>\n",
       "      <td>...</td>\n",
       "      <td>0.00</td>\n",
       "      <td>0.135</td>\n",
       "      <td>0.0</td>\n",
       "      <td>0.135</td>\n",
       "      <td>0.000</td>\n",
       "      <td>0.000</td>\n",
       "      <td>3.537</td>\n",
       "      <td>40</td>\n",
       "      <td>191</td>\n",
       "      <td>1</td>\n",
       "    </tr>\n",
       "  </tbody>\n",
       "</table>\n",
       "<p>5 rows × 58 columns</p>\n",
       "</div>"
      ],
      "text/plain": [
       "   wf_make  wf_address  wf_all  wf_3d  wf_our  wf_over  wf_remove  \\\n",
       "0     0.00        0.64    0.64    0.0    0.32     0.00       0.00   \n",
       "1     0.21        0.28    0.50    0.0    0.14     0.28       0.21   \n",
       "2     0.06        0.00    0.71    0.0    1.23     0.19       0.19   \n",
       "3     0.00        0.00    0.00    0.0    0.63     0.00       0.31   \n",
       "4     0.00        0.00    0.00    0.0    0.63     0.00       0.31   \n",
       "\n",
       "   wf_internet  wf_order  wf_mail  ...   cf_semic  cf_lpara  cf_lbraket  \\\n",
       "0         0.00      0.00     0.00  ...       0.00     0.000         0.0   \n",
       "1         0.07      0.00     0.94  ...       0.00     0.132         0.0   \n",
       "2         0.12      0.64     0.25  ...       0.01     0.143         0.0   \n",
       "3         0.63      0.31     0.63  ...       0.00     0.137         0.0   \n",
       "4         0.63      0.31     0.63  ...       0.00     0.135         0.0   \n",
       "\n",
       "   cf_excla  cf_dollar  cf_hash  cap_rl_ave  cap_rl_longest  cap_rl_total  \\\n",
       "0     0.778      0.000    0.000       3.756              61           278   \n",
       "1     0.372      0.180    0.048       5.114             101          1028   \n",
       "2     0.276      0.184    0.010       9.821             485          2259   \n",
       "3     0.137      0.000    0.000       3.537              40           191   \n",
       "4     0.135      0.000    0.000       3.537              40           191   \n",
       "\n",
       "   spam  \n",
       "0     1  \n",
       "1     1  \n",
       "2     1  \n",
       "3     1  \n",
       "4     1  \n",
       "\n",
       "[5 rows x 58 columns]"
      ]
     },
     "execution_count": 10,
     "metadata": {},
     "output_type": "execute_result"
    }
   ],
   "source": [
    "# Add the column for the response variable (\"spam\").\n",
    "# The last column (*\"spam\"*) of *'spambase.data'* denotes whether\n",
    "# the e-mail was considered spam (1) or not (0).\n",
    "Columns = features.copy()\n",
    "Columns.append(\"spam\")\n",
    "d1.columns = Columns\n",
    "d1.head()"
   ]
  },
  {
   "cell_type": "markdown",
   "metadata": {},
   "source": [
    "** Data Exploration **"
   ]
  },
  {
   "cell_type": "code",
   "execution_count": 13,
   "metadata": {},
   "outputs": [
    {
     "name": "stdout",
     "output_type": "stream",
     "text": [
      "Number of rows of Ham = 2788\n",
      "Number of rows of Spam = 1813\n"
     ]
    }
   ],
   "source": [
    "dh = d1[d1[\"spam\"] == 0]\n",
    "ds = d1[d1[\"spam\"] == 1]\n",
    "\n",
    "print(\"Number of rows of Ham = {}\" .format(dh.shape[0]))\n",
    "print(\"Number of rows of Spam = {}\" .format(ds.shape[0]))"
   ]
  },
  {
   "cell_type": "markdown",
   "metadata": {},
   "source": [
    "We can use density plots to examine the distribution of a few variables across the two categories.\n",
    "\n",
    "We select two variables for this purpose and examine their distribution for Spam and Non-spam data:\n",
    "- The first variable represents the frequency of the \"$\" sign in the email.\n",
    "- The second variable represents the frequency of the word \"money\" in the email."
   ]
  },
  {
   "cell_type": "code",
   "execution_count": 20,
   "metadata": {
    "scrolled": true
   },
   "outputs": [
    {
     "data": {
      "image/png": "[encoded data removed]",
      "text/plain": [
       "<Figure size 432x288 with 1 Axes>"
      ]
     },
     "metadata": {},
     "output_type": "display_data"
    }
   ],
   "source": [
    "import seaborn as sns\n",
    "sns.distplot(ds[\"cf_dollar\"], hist=True, label=\"freq of \\\"$\\\" sign\", bins=4);\n",
    "sns.distplot(ds[\"wf_money\"], hist=True, label=\"freq of \\\"money\\\"\", bins=4);\n",
    "plt.title(\"Density of variables for Spam rows\")\n",
    "plt.legend();"
   ]
  },
  {
   "cell_type": "code",
   "execution_count": 21,
   "metadata": {
    "scrolled": true
   },
   "outputs": [
    {
     "data": {
      "image/png": "[encoded data removed]",
      "text/plain": [
       "<Figure size 432x288 with 1 Axes>"
      ]
     },
     "metadata": {},
     "output_type": "display_data"
    }
   ],
   "source": [
    "\n",
    "sns.distplot(dh[\"cf_dollar\"], hist=True, label=\"freq of \\\"$\\\" sign\", bins=4);\n",
    "sns.distplot(dh[\"wf_money\"], hist=True, label=\"freq of \\\"money\\\"\", bins=4);\n",
    "plt.title(\"Density of variables for Non-spam rows\")\n",
    "plt.legend();"
   ]
  },
  {
   "cell_type": "markdown",
   "metadata": {},
   "source": [
    "We see from the above plots that the two variables selected have _different densities_ across the Spam and Non-spam subsets:\n",
    "- The variable *cf_dollar* is the frequency of occurrence of the \"$\" sign\n",
    "- The variable *wf_money* is the frequency of occurrence of the word \"money\"\n",
    "\n",
    "\n",
    "Both of these variables are more frequently present in the Spam subset, as shown in the above plots."
   ]
  },
  {
   "cell_type": "markdown",
   "metadata": {},
   "source": [
    "**Building, Evaluating and Comparing Classification Models**"
   ]
  },
  {
   "cell_type": "markdown",
   "metadata": {},
   "source": [
    "We now build models to predict the Response variable \"spam\" based on the other variables.\n",
    "The first model is a Gradient Boosting model.\n",
    "\n",
    "**Gradient Boosting**"
   ]
  },
  {
   "cell_type": "code",
   "execution_count": 25,
   "metadata": {},
   "outputs": [
    {
     "data": {
      "text/plain": [
       "XGBClassifier(base_score=0.5, booster='gbtree', colsample_bylevel=1,\n",
       "              colsample_bynode=1, colsample_bytree=1, gamma=0,\n",
       "              learning_rate=0.1, max_delta_step=0, max_depth=3,\n",
       "              min_child_weight=1, missing=None, n_estimators=100, n_jobs=1,\n",
       "              nthread=None, objective='binary:logistic', random_state=0,\n",
       "              reg_alpha=0, reg_lambda=1, scale_pos_weight=1, seed=None,\n",
       "              silent=None, subsample=1, verbosity=1)"
      ]
     },
     "execution_count": 25,
     "metadata": {},
     "output_type": "execute_result"
    }
   ],
   "source": [
    "X = d1[features]\n",
    "y = d1[\"spam\"]\n",
    "\n",
    "X_train, X_test, y_train, y_test = train_test_split(X, y, test_size=0.33, random_state=42)\n",
    "#y_test.shape\n",
    "#X_test.shape\n",
    "\n",
    "# fit model on training data\n",
    "xgb = XGBClassifier()\n",
    "xgb.fit(X_train, y_train)"
   ]
  },
  {
   "cell_type": "code",
   "execution_count": 26,
   "metadata": {},
   "outputs": [
    {
     "data": {
      "text/plain": [
       "array([0, 0, 0, 1, 0, 0, 0, 0, 0])"
      ]
     },
     "execution_count": 26,
     "metadata": {},
     "output_type": "execute_result"
    },
    {
     "name": "stdout",
     "output_type": "stream",
     "text": [
      "Accuracy: 95.19%\n"
     ]
    }
   ],
   "source": [
    "# make predictions\n",
    "predictions = xgb.predict(X_test)\n",
    "predictions[0:9]\n",
    "accuracy = accuracy_score(y_test, predictions)\n",
    "print(\"Accuracy: %.2f%%\" % (accuracy * 100.0))"
   ]
  },
  {
   "cell_type": "code",
   "execution_count": 27,
   "metadata": {},
   "outputs": [
    {
     "data": {
      "text/plain": [
       "array([[856,  30],\n",
       "       [ 43, 590]])"
      ]
     },
     "execution_count": 27,
     "metadata": {},
     "output_type": "execute_result"
    }
   ],
   "source": [
    "# confusion matrix for Gradient Boosting\n",
    "confusion_matrix(y_test, predictions)"
   ]
  },
  {
   "cell_type": "markdown",
   "metadata": {},
   "source": [
    "** Random Forest **\n",
    "\n",
    "The second classification model we attempt is a Random Forest model."
   ]
  },
  {
   "cell_type": "code",
   "execution_count": 28,
   "metadata": {},
   "outputs": [
    {
     "data": {
      "text/plain": [
       "RandomForestClassifier(bootstrap=True, class_weight=None, criterion='gini',\n",
       "                       max_depth=None, max_features='auto', max_leaf_nodes=None,\n",
       "                       min_impurity_decrease=0.0, min_impurity_split=None,\n",
       "                       min_samples_leaf=1, min_samples_split=2,\n",
       "                       min_weight_fraction_leaf=0.0, n_estimators=100,\n",
       "                       n_jobs=None, oob_score=False, random_state=None,\n",
       "                       verbose=0, warm_start=False)"
      ]
     },
     "execution_count": 28,
     "metadata": {},
     "output_type": "execute_result"
    }
   ],
   "source": [
    "#Import Random Forest Model\n",
    "from sklearn.ensemble import RandomForestClassifier\n",
    "\n",
    "#Create a Gaussian Classifier\n",
    "rf_model = RandomForestClassifier(n_estimators=100)\n",
    "\n",
    "#Train the model using the training set\n",
    "rf_model.fit(X_train, y_train)\n",
    "\n",
    "y_pred = rf_model.predict(X_test)"
   ]
  },
  {
   "cell_type": "markdown",
   "metadata": {},
   "source": [
    "Accuracy of Random Forest classifier."
   ]
  },
  {
   "cell_type": "code",
   "execution_count": 30,
   "metadata": {},
   "outputs": [
    {
     "name": "stdout",
     "output_type": "stream",
     "text": [
      "Accuracy: 96.18169848584596\n"
     ]
    }
   ],
   "source": [
    "# Model Accuracy\n",
    "print(\"Accuracy:\", accuracy_score(y_test, y_pred)*100.0)"
   ]
  },
  {
   "cell_type": "code",
   "execution_count": 31,
   "metadata": {},
   "outputs": [
    {
     "data": {
      "text/plain": [
       "array([[870,  16],\n",
       "       [ 42, 591]])"
      ]
     },
     "execution_count": 31,
     "metadata": {},
     "output_type": "execute_result"
    }
   ],
   "source": [
    "# confusion matrix for Random Forest\n",
    "confusion_matrix(y_test, y_pred)"
   ]
  },
  {
   "cell_type": "markdown",
   "metadata": {},
   "source": [
    "*** Importance of Features using Random Forest Classifier ***\n",
    "\n",
    "We can also use the Random Forest classifier to obtain the top 10 most important features."
   ]
  },
  {
   "cell_type": "code",
   "execution_count": 32,
   "metadata": {},
   "outputs": [
    {
     "data": {
      "text/plain": [
       "cf_excla          0.118987\n",
       "cf_dollar         0.097229\n",
       "wf_remove         0.086801\n",
       "wf_free           0.070583\n",
       "cap_rl_ave        0.066005\n",
       "wf_your           0.058858\n",
       "cap_rl_longest    0.058084\n",
       "cap_rl_total      0.037440\n",
       "wf_hp             0.036306\n",
       "dtype: float64"
      ]
     },
     "execution_count": 32,
     "metadata": {},
     "output_type": "execute_result"
    }
   ],
   "source": [
    "feature_imp = pd.Series(rf_model.feature_importances_, index=features).sort_values(ascending=False)\n",
    "# Show the top ten features by importance\n",
    "feature_imp[0:9]"
   ]
  },
  {
   "cell_type": "markdown",
   "metadata": {},
   "source": [
    "** Summary and Conclusions **"
   ]
  },
  {
   "cell_type": "markdown",
   "metadata": {},
   "source": [
    "Using data from the UCI Spam Database, we implemented Gradient Boosting and Random Forest classifiers\n",
    "to classify emails into Spam and Non-Spam categories. The features used were based on typical characteristics thought to be present in Spam email, such as the occurrence of specific words and letters (for example, the word \"money\", or excessive use of capitalized letters).\n",
    "\n",
    "We also showed the confusion matrix resulting from the predictions made by each classifier, and obtained a feature importance ranking using the Random Forest model.\n",
    "\n",
    "We found that both classifiers achieved similar overall accuracies (95% for Gradient Boosting vs 96% for Random Forest)."
   ]
  },
  {
   "cell_type": "code",
   "execution_count": null,
   "metadata": {},
   "outputs": [],
   "source": []
  }
 ],
 "metadata": {
  "kernelspec": {
   "display_name": "Python 3",
   "language": "python",
   "name": "python3"
  },
  "language_info": {
   "codemirror_mode": {
    "name": "ipython",
    "version": 3
   },
   "file_extension": ".py",
   "mimetype": "text/x-python",
   "name": "python",
   "nbconvert_exporter": "python",
   "pygments_lexer": "ipython3",
   "version": "3.6.8"
  }
 },
 "nbformat": 4,
 "nbformat_minor": 2
}
