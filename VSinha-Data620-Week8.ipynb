{
 "cells": [
  {
   "cell_type": "markdown",
   "metadata": {},
   "source": [
    "+ Data 620 Assignment Week 8\n",
    "    - Vikas Sinha\n",
    "    - 11/10/2019"
   ]
  },
  {
   "cell_type": "code",
   "execution_count": 2,
   "metadata": {},
   "outputs": [],
   "source": [
    "import nltk\n",
    "from nltk.corpus import gutenberg\n",
    "from nltk.corpus import words\n",
    "import matplotlib.pyplot as plt\n",
    "import numpy as np\n",
    "import operator\n",
    "from IPython.core.interactiveshell import InteractiveShell\n",
    "InteractiveShell.ast_node_interactivity = \"all\""
   ]
  },
  {
   "cell_type": "markdown",
   "metadata": {},
   "source": [
    "*** Choose a corpus of interest. ***\n",
    "\n",
    "The corpus chosen is part of the NLTK Gutenberg corpus collection, the text **whitman-leaves.txt.**"
   ]
  },
  {
   "cell_type": "code",
   "execution_count": 3,
   "metadata": {},
   "outputs": [
    {
     "data": {
      "text/plain": [
       "['austen-emma.txt',\n",
       " 'austen-persuasion.txt',\n",
       " 'austen-sense.txt',\n",
       " 'bible-kjv.txt',\n",
       " 'blake-poems.txt',\n",
       " 'bryant-stories.txt',\n",
       " 'burgess-busterbrown.txt',\n",
       " 'carroll-alice.txt',\n",
       " 'chesterton-ball.txt',\n",
       " 'chesterton-brown.txt',\n",
       " 'chesterton-thursday.txt',\n",
       " 'edgeworth-parents.txt',\n",
       " 'melville-moby_dick.txt',\n",
       " 'milton-paradise.txt',\n",
       " 'shakespeare-caesar.txt',\n",
       " 'shakespeare-hamlet.txt',\n",
       " 'shakespeare-macbeth.txt',\n",
       " 'whitman-leaves.txt']"
      ]
     },
     "execution_count": 3,
     "metadata": {},
     "output_type": "execute_result"
    }
   ],
   "source": [
    "# Print the list of files available.\n",
    "gutenberg.fileids()"
   ]
  },
  {
   "cell_type": "code",
   "execution_count": 44,
   "metadata": {},
   "outputs": [
    {
     "name": "stdout",
     "output_type": "stream",
     "text": [
      "The total length of the corpus is: 154883\n"
     ]
    }
   ],
   "source": [
    "# Select the whitman-leaves text.\n",
    "whitman = gutenberg.words(\"whitman-leaves.txt\")\n",
    "\n",
    "# Check the length and type of the word list\n",
    "print(\"The total length of the corpus is: {0}\". format(len(whitman)))"
   ]
  },
  {
   "cell_type": "code",
   "execution_count": 46,
   "metadata": {},
   "outputs": [
    {
     "data": {
      "text/plain": [
       "['the',\n",
       " 'woodpile',\n",
       " ',',\n",
       " 'Through',\n",
       " 'the',\n",
       " 'swung',\n",
       " 'half',\n",
       " '-',\n",
       " 'door',\n",
       " 'of',\n",
       " 'the',\n",
       " 'kitchen',\n",
       " 'I',\n",
       " 'saw',\n",
       " 'him',\n",
       " 'limpsy',\n",
       " 'and',\n",
       " 'weak',\n",
       " ',',\n",
       " 'And']"
      ]
     },
     "execution_count": 46,
     "metadata": {},
     "output_type": "execute_result"
    }
   ],
   "source": [
    "# Show an arbitrary sampling of the words.\n",
    "whitman[10100:10120]"
   ]
  },
  {
   "cell_type": "markdown",
   "metadata": {},
   "source": [
    "*** How many total unique words are in the corpus? \n",
    "(Please feel free to define unique words in any interesting, defensible way). ***\n",
    "\n",
    "We consider a word to be unique by considering only its first occurrence; all duplicate occurrences\n",
    "are ignored.\n",
    "We build a dictionary of unique words occurring in the text, where each word is a key in the\n",
    "dictionary and its value is the frequency of its occurrence."
   ]
  },
  {
   "cell_type": "code",
   "execution_count": 47,
   "metadata": {},
   "outputs": [],
   "source": [
    "unique_words = dict()\n",
    "english_vocab = set(w.lower() for w in nltk.corpus.words.words())\n",
    "\n",
    "for word in whitman:\n",
    "    if word.isalpha():\n",
    "        if word in english_vocab:\n",
    "            if word not in unique_words:\n",
    "                unique_words[word] = 1\n",
    "            else:\n",
    "                unique_words[word] += 1"
   ]
  },
  {
   "cell_type": "code",
   "execution_count": 48,
   "metadata": {},
   "outputs": [
    {
     "name": "stdout",
     "output_type": "stream",
     "text": [
      "Total number of unique words found = 7520\n"
     ]
    }
   ],
   "source": [
    "print(\"Total number of unique words found = {0}\". format(len(unique_words)))"
   ]
  },
  {
   "cell_type": "markdown",
   "metadata": {},
   "source": [
    "The word-frequency dictionary is sorted so that the most frequent words appear at the top."
   ]
  },
  {
   "cell_type": "code",
   "execution_count": 51,
   "metadata": {},
   "outputs": [
    {
     "data": {
      "text/plain": [
       "list"
      ]
     },
     "execution_count": 51,
     "metadata": {},
     "output_type": "execute_result"
    }
   ],
   "source": [
    "# Sorting in descending order if frequencies. The result is a list of tuples.\n",
    "word_freqs = sorted(unique_words.items(), key=lambda x: x[1], reverse=True)\n",
    "type(word_freqs)"
   ]
  },
  {
   "cell_type": "markdown",
   "metadata": {},
   "source": [
    "***Taking the most common words, how many unique words represent half of the total words in the corpus?***\n",
    "\n",
    "To find how many unique words represent half the words in the corpus, we keep incrementing a count of word frequencies, starting from the most common word, until half the length of the corpus is reached."
   ]
  },
  {
   "cell_type": "code",
   "execution_count": 52,
   "metadata": {},
   "outputs": [
    {
     "name": "stdout",
     "output_type": "stream",
     "text": [
      "77455 words represent (slightly over) half of the total words in the corpus.\n"
     ]
    }
   ],
   "source": [
    "half = len(whitman)/2\n",
    "count = 0\n",
    "for pair in word_freqs:\n",
    "    count += pair[1]\n",
    "    if count >= half:\n",
    "        break\n",
    "\n",
    "print(\"{0} words represent (slightly over) half of the total words in the corpus.\" .format(count))"
   ]
  },
  {
   "cell_type": "markdown",
   "metadata": {},
   "source": [
    "*** Identify the 200 highest-frequency words in this corpus. ***\n",
    "\n",
    "The 200 highest-frequency words and their respective frequencies are shown by printing the first\n",
    "200 elements of the sorted frequency list."
   ]
  },
  {
   "cell_type": "code",
   "execution_count": 53,
   "metadata": {},
   "outputs": [
    {
     "data": {
      "text/plain": [
       "[('the', 8814),\n",
       " ('and', 4797),\n",
       " ('of', 4127),\n",
       " ('to', 1930),\n",
       " ('in', 1714),\n",
       " ('d', 1579),\n",
       " ('you', 1345),\n",
       " ('with', 1111),\n",
       " ('a', 1097),\n",
       " ('is', 1063),\n",
       " ('me', 982),\n",
       " ('all', 934),\n",
       " ('my', 905),\n",
       " ('or', 895),\n",
       " ('for', 825),\n",
       " ('that', 770),\n",
       " ('not', 761),\n",
       " ('it', 682),\n",
       " ('as', 651),\n",
       " ('on', 616),\n",
       " ('from', 599),\n",
       " ('s', 597),\n",
       " ('are', 588),\n",
       " ('be', 478),\n",
       " ('at', 451),\n",
       " ('them', 443),\n",
       " ('by', 437),\n",
       " ('see', 393),\n",
       " ('they', 376),\n",
       " ('his', 355),\n",
       " ('their', 353),\n",
       " ('your', 339),\n",
       " ('what', 338),\n",
       " ('have', 320),\n",
       " ('one', 306),\n",
       " ('but', 275),\n",
       " ('will', 261),\n",
       " ('love', 259),\n",
       " ('day', 253),\n",
       " ('shall', 251),\n",
       " ('life', 247),\n",
       " ('out', 246),\n",
       " ('more', 244),\n",
       " ('soul', 241),\n",
       " ('these', 241),\n",
       " ('there', 238),\n",
       " ('am', 238),\n",
       " ('old', 234),\n",
       " ('he', 233),\n",
       " ('we', 231),\n",
       " ('man', 230),\n",
       " ('through', 229),\n",
       " ('so', 226),\n",
       " ('this', 226),\n",
       " ('earth', 226),\n",
       " ('long', 224),\n",
       " ('no', 224),\n",
       " ('now', 222),\n",
       " ('its', 222),\n",
       " ('than', 219),\n",
       " ('thee', 215),\n",
       " ('yet', 214),\n",
       " ('night', 212),\n",
       " ('any', 205),\n",
       " ('do', 203),\n",
       " ('men', 197),\n",
       " ('him', 186),\n",
       " ('thy', 183),\n",
       " ('up', 179),\n",
       " ('myself', 178),\n",
       " ('sea', 176),\n",
       " ('was', 175),\n",
       " ('here', 174),\n",
       " ('her', 174),\n",
       " ('know', 172),\n",
       " ('over', 171),\n",
       " ('nor', 168),\n",
       " ('those', 168),\n",
       " ('every', 165),\n",
       " ('well', 160),\n",
       " ('who', 157),\n",
       " ('death', 156),\n",
       " ('great', 156),\n",
       " ('upon', 151),\n",
       " ('time', 145),\n",
       " ('only', 141),\n",
       " ('ever', 140),\n",
       " ('where', 140),\n",
       " ('come', 138),\n",
       " ('some', 136),\n",
       " ('many', 135),\n",
       " ('own', 135),\n",
       " ('how', 135),\n",
       " ('again', 133),\n",
       " ('hear', 133),\n",
       " ('face', 131),\n",
       " ('hand', 128),\n",
       " ('world', 126),\n",
       " ('each', 124),\n",
       " ('never', 124),\n",
       " ('like', 123),\n",
       " ('good', 123),\n",
       " ('thou', 122),\n",
       " ('body', 120),\n",
       " ('an', 118),\n",
       " ('pass', 116),\n",
       " ('last', 114),\n",
       " ('young', 114),\n",
       " ('go', 113),\n",
       " ('far', 110),\n",
       " ('us', 109),\n",
       " ('rest', 109),\n",
       " ('look', 106),\n",
       " ('air', 106),\n",
       " ('down', 105),\n",
       " ('sun', 104),\n",
       " ('too', 103),\n",
       " ('same', 103),\n",
       " ('other', 102),\n",
       " ('land', 101),\n",
       " ('dead', 99),\n",
       " ('after', 98),\n",
       " ('think', 98),\n",
       " ('before', 96),\n",
       " ('nothing', 96),\n",
       " ('sing', 95),\n",
       " ('war', 95),\n",
       " ('woman', 94),\n",
       " ('then', 92),\n",
       " ('give', 92),\n",
       " ('little', 90),\n",
       " ('our', 88),\n",
       " ('light', 88),\n",
       " ('if', 88),\n",
       " ('back', 88),\n",
       " ('can', 88),\n",
       " ('were', 88),\n",
       " ('she', 87),\n",
       " ('voice', 86),\n",
       " ('song', 86),\n",
       " ('may', 85),\n",
       " ('white', 85),\n",
       " ('new', 85),\n",
       " ('would', 85),\n",
       " ('much', 84),\n",
       " ('alone', 82),\n",
       " ('full', 81),\n",
       " ('forth', 80),\n",
       " ('past', 80),\n",
       " ('side', 79),\n",
       " ('make', 78),\n",
       " ('city', 78),\n",
       " ('strong', 78),\n",
       " ('itself', 77),\n",
       " ('saw', 77),\n",
       " ('under', 76),\n",
       " ('around', 76),\n",
       " ('sweet', 75),\n",
       " ('mother', 75),\n",
       " ('away', 75),\n",
       " ('work', 74),\n",
       " ('high', 74),\n",
       " ('perfect', 73),\n",
       " ('thought', 73),\n",
       " ('close', 73),\n",
       " ('head', 73),\n",
       " ('toward', 72),\n",
       " ('place', 71),\n",
       " ('which', 71),\n",
       " ('heart', 71),\n",
       " ('ship', 70),\n",
       " ('just', 70),\n",
       " ('beautiful', 70),\n",
       " ('house', 70),\n",
       " ('while', 69),\n",
       " ('stand', 69),\n",
       " ('take', 67),\n",
       " ('joy', 67),\n",
       " ('call', 67),\n",
       " ('blood', 66),\n",
       " ('divine', 65),\n",
       " ('part', 65),\n",
       " ('word', 64),\n",
       " ('also', 64),\n",
       " ('off', 64),\n",
       " ('days', 64),\n",
       " ('sky', 63),\n",
       " ('mine', 63),\n",
       " ('when', 63),\n",
       " ('must', 63),\n",
       " ('walk', 63),\n",
       " ('themselves', 62),\n",
       " ('without', 61),\n",
       " ('say', 60),\n",
       " ('still', 60),\n",
       " ('been', 60),\n",
       " ('fill', 60),\n",
       " ('best', 59),\n",
       " ('silent', 58)]"
      ]
     },
     "execution_count": 53,
     "metadata": {},
     "output_type": "execute_result"
    }
   ],
   "source": [
    "word_freqs[0:199]"
   ]
  },
  {
   "cell_type": "markdown",
   "metadata": {},
   "source": [
    "*** Create a graph that shows the relative frequency of these 200 words. ***\n",
    "\n",
    "The figure below shows the relative frequencies of the 16 most frequent words as a bar plot."
   ]
  },
  {
   "cell_type": "code",
   "execution_count": 54,
   "metadata": {},
   "outputs": [
    {
     "data": {
      "image/png": "[encoded data removed]",
      "text/plain": [
       "<Figure size 432x288 with 1 Axes>"
      ]
     },
     "metadata": {},
     "output_type": "display_data"
    }
   ],
   "source": [
    "# Create a horizontal graph\n",
    "words_sel = word_freqs[0:15]\n",
    "words = [pair[0] for pair in words_sel]\n",
    "freqs = [pair[1] for pair in words_sel]\n",
    "\n",
    "height = freqs\n",
    "bars = words\n",
    "y_pos = np.arange(len(bars))\n",
    " \n",
    "# Create horizontal bars\n",
    "plt.barh(y_pos, height)\n",
    " \n",
    "# Create names on the y-axis\n",
    "plt.yticks(y_pos, bars)\n",
    " \n",
    "# Show graphic\n",
    "plt.show();"
   ]
  },
  {
   "cell_type": "markdown",
   "metadata": {},
   "source": [
    "*** Does the observed relative frequency of these words follow Zipf’s law?  Explain. ***"
   ]
  },
  {
   "cell_type": "markdown",
   "metadata": {},
   "source": [
    "From https://nlp.stanford.edu/IR-book/html/htmledition/zipfs-law-modeling-the-distribution-of-terms-1.html\n",
    "Zipf's law states that the frequency of the nth most common word will be proportional to 1/n.\n",
    "To test its validity for the selected corpus, we examine side-by-side plots of a Zipf series, and a plot of the word frequencies observed. From a visual examination we can see that the two plots, although not identical, show similar trends or relationships."
   ]
  },
  {
   "cell_type": "code",
   "execution_count": 55,
   "metadata": {},
   "outputs": [],
   "source": [
    "zipf_series = [1/n for n in range(1, 16)]"
   ]
  },
  {
   "cell_type": "code",
   "execution_count": 56,
   "metadata": {},
   "outputs": [
    {
     "data": {
      "image/png": "[encoded data removed]",
      "text/plain": [
       "<Figure size 432x288 with 2 Axes>"
      ]
     },
     "metadata": {},
     "output_type": "display_data"
    }
   ],
   "source": [
    "plt.subplot(1, 2, 2)\n",
    "r = range(1,16)\n",
    "plt.title(\"A Zipf Series Plot\")\n",
    "plt.xlabel(\"rank number\")\n",
    "plt.ylabel(\"Zipf series\")\n",
    "plt.plot(r, zipf_series);\n",
    "\n",
    "plt.subplot(1, 2, 1)\n",
    "plt.title(\"Word Frequency Plot\")\n",
    "plt.xlabel(\"word rank number\")\n",
    "plt.ylabel(\"Frequency\")\n",
    "plt.plot(r, freqs)\n",
    "plt.tight_layout()\n",
    "plt.show();"
   ]
  },
  {
   "cell_type": "markdown",
   "metadata": {},
   "source": [
    "The two plots are similar, showing that Zipf's law, is largely followed."
   ]
  },
  {
   "cell_type": "markdown",
   "metadata": {},
   "source": [
    "Finally, we plot observed frequencies on the x-axis vs Zipf series on the y-axis."
   ]
  },
  {
   "cell_type": "code",
   "execution_count": 57,
   "metadata": {
    "scrolled": true
   },
   "outputs": [
    {
     "data": {
      "image/png": "[encoded data removed]",
      "text/plain": [
       "<Figure size 432x288 with 1 Axes>"
      ]
     },
     "metadata": {},
     "output_type": "display_data"
    }
   ],
   "source": [
    "fig = plt.figure()\n",
    "ax = plt.axes()\n",
    "ax.plot(freqs, zipf_series);"
   ]
  },
  {
   "cell_type": "markdown",
   "metadata": {},
   "source": [
    "The plot above suggests a linear relationship between observed frequencies and the terms of the Zipf series."
   ]
  },
  {
   "cell_type": "markdown",
   "metadata": {},
   "source": [
    "*** In what ways do you think the frequency of the words in this corpus differ from “all words in all corpora.” ***"
   ]
  },
  {
   "cell_type": "markdown",
   "metadata": {},
   "source": [
    "Since the observed frequencies do seem to largely follow Zipf's law, there does not seem to be a significant difference in that regard."
   ]
  },
  {
   "cell_type": "code",
   "execution_count": null,
   "metadata": {},
   "outputs": [],
   "source": []
  }
 ],
 "metadata": {
  "kernelspec": {
   "display_name": "Python 3",
   "language": "python",
   "name": "python3"
  },
  "language_info": {
   "codemirror_mode": {
    "name": "ipython",
    "version": 3
   },
   "file_extension": ".py",
   "mimetype": "text/x-python",
   "name": "python",
   "nbconvert_exporter": "python",
   "pygments_lexer": "ipython3",
   "version": "3.6.8"
  }
 },
 "nbformat": 4,
 "nbformat_minor": 2
}
