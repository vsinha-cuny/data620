{
 "cells": [
  {
   "cell_type": "markdown",
   "metadata": {},
   "source": [
    "Vikas K. Sinha\n",
    "Data620\n",
    "Project 1"
   ]
  },
  {
   "cell_type": "markdown",
   "metadata": {},
   "source": [
    " ### Patent Citation Network\n",
    "\n",
    " This dataset is from the Stanford Network Analysis Project. It consists of patent citation instances\n",
    " for utility patents filed with the US Patent Office.\n",
    " \n",
    " The following description is copied from \n",
    " http://snap.stanford.edu/data/cit-Patents.html\n",
    " \n",
    "    The data set spans 37 years (January 1, 1963 to December 30, 1999), and includes\n",
    "    all the utility patents granted during that period, totaling 3,923,922 patents. The\n",
    "    citation graph includes all citations made by patents granted between 1975 and 1999,\n",
    "    totaling 16,522,438 citations. For the patents dataset there are 1,803,511 nodes for\n",
    "    which we have no information about their citations (we only have the in-links)."
   ]
  },
  {
   "cell_type": "markdown",
   "metadata": {},
   "source": [
    "## Objective\n",
    "\n",
    "\n",
    "In this project, we compare characteristics of the base citation network, and the network of patents that have \n",
    "two or more citations."
   ]
  },
  {
   "cell_type": "code",
   "execution_count": 1,
   "metadata": {},
   "outputs": [],
   "source": [
    "import sys\n",
    "import pandas as pd\n",
    "import numpy as np\n",
    "import math\n",
    "import matplotlib.pyplot as plt\n",
    "import networkx as nx\n",
    "from networkx import algorithms\n",
    "import collections\n",
    "from neo4j import GraphDatabase\n",
    "import random\n",
    "\n",
    "from IPython.core.interactiveshell import InteractiveShell\n",
    "InteractiveShell.ast_node_interactivity = \"all\"\n",
    "%matplotlib inline"
   ]
  },
  {
   "cell_type": "markdown",
   "metadata": {},
   "source": [
    "### Read text file\n",
    "\n",
    "The file contains 16,518,952 lines. In this project we use only 100000 lines of the file."
   ]
  },
  {
   "cell_type": "code",
   "execution_count": 2,
   "metadata": {},
   "outputs": [],
   "source": [
    "datafile = \"cit-Patents2.txt\"\n",
    "n = 16518948        # number of records in file\n",
    "s = 400000          # desired sample size\n",
    "\n",
    "# Random sample of given size\n",
    "skip = sorted(random.sample(range(n), n-s))\n",
    "edgelist = pd.read_csv(datafile, skiprows=skip,\n",
    "                       header=None, delim_whitespace=True,\n",
    "                       names=[\"FromNodeId\", \"ToNodeId\"])"
   ]
  },
  {
   "cell_type": "code",
   "execution_count": 3,
   "metadata": {},
   "outputs": [
    {
     "data": {
      "text/plain": [
       "(400000, 2)"
      ]
     },
     "execution_count": 3,
     "metadata": {},
     "output_type": "execute_result"
    },
    {
     "data": {
      "text/html": [
       "<div>\n",
       "<style scoped>\n",
       "    .dataframe tbody tr th:only-of-type {\n",
       "        vertical-align: middle;\n",
       "    }\n",
       "\n",
       "    .dataframe tbody tr th {\n",
       "        vertical-align: top;\n",
       "    }\n",
       "\n",
       "    .dataframe thead th {\n",
       "        text-align: right;\n",
       "    }\n",
       "</style>\n",
       "<table border=\"1\" class=\"dataframe\">\n",
       "  <thead>\n",
       "    <tr style=\"text-align: right;\">\n",
       "      <th></th>\n",
       "      <th>FromNodeId</th>\n",
       "      <th>ToNodeId</th>\n",
       "    </tr>\n",
       "  </thead>\n",
       "  <tbody>\n",
       "    <tr>\n",
       "      <th>0</th>\n",
       "      <td>3858242</td>\n",
       "      <td>3319261</td>\n",
       "    </tr>\n",
       "    <tr>\n",
       "      <th>1</th>\n",
       "      <td>3858248</td>\n",
       "      <td>2875449</td>\n",
       "    </tr>\n",
       "    <tr>\n",
       "      <th>2</th>\n",
       "      <td>3858251</td>\n",
       "      <td>1092080</td>\n",
       "    </tr>\n",
       "    <tr>\n",
       "      <th>3</th>\n",
       "      <td>3858260</td>\n",
       "      <td>2991750</td>\n",
       "    </tr>\n",
       "    <tr>\n",
       "      <th>4</th>\n",
       "      <td>3858264</td>\n",
       "      <td>3530488</td>\n",
       "    </tr>\n",
       "  </tbody>\n",
       "</table>\n",
       "</div>"
      ],
      "text/plain": [
       "   FromNodeId  ToNodeId\n",
       "0     3858242   3319261\n",
       "1     3858248   2875449\n",
       "2     3858251   1092080\n",
       "3     3858260   2991750\n",
       "4     3858264   3530488"
      ]
     },
     "execution_count": 3,
     "metadata": {},
     "output_type": "execute_result"
    }
   ],
   "source": [
    "edgelist.shape\n",
    "edgelist.head()"
   ]
  },
  {
   "cell_type": "code",
   "execution_count": 4,
   "metadata": {},
   "outputs": [],
   "source": [
    "# Create empty Directed Graph (DiGraph)\n",
    "basegraph = nx.DiGraph()\n",
    "\n",
    "# Add edges.\n",
    "for i, elrow in edgelist.iterrows():\n",
    "    basegraph.add_edge(elrow[0], elrow[1])"
   ]
  },
  {
   "cell_type": "markdown",
   "metadata": {},
   "source": [
    "As seen in the prior table, each line of the citation is an edge from a source patent to another patent that is cited by it."
   ]
  },
  {
   "cell_type": "code",
   "execution_count": 5,
   "metadata": {},
   "outputs": [
    {
     "name": "stdout",
     "output_type": "stream",
     "text": [
      "Total number of nodes: 654341\n",
      "Total number of edges: 400000\n"
     ]
    }
   ],
   "source": [
    "print(\"Total number of nodes: {0}\" .format(basegraph.number_of_nodes()))\n",
    "print(\"Total number of edges: {0}\" .format(basegraph.number_of_edges()))"
   ]
  },
  {
   "cell_type": "code",
   "execution_count": 6,
   "metadata": {},
   "outputs": [],
   "source": [
    "# Iterate over all edges, select those whose nodes have two or more edges\n",
    "def trim_degrees(g, degree):\n",
    "    g2 = g.copy()\n",
    "    d = nx.degree(g2)\n",
    "    for n in g.nodes():\n",
    "        if d[n] <= degree:\n",
    "            g2.remove_node(n)\n",
    "    return g2"
   ]
  },
  {
   "cell_type": "code",
   "execution_count": 8,
   "metadata": {
    "scrolled": true
   },
   "outputs": [
    {
     "data": {
      "text/plain": [
       "89025"
      ]
     },
     "execution_count": 8,
     "metadata": {},
     "output_type": "execute_result"
    },
    {
     "data": {
      "text/plain": [
       "38913"
      ]
     },
     "execution_count": 8,
     "metadata": {},
     "output_type": "execute_result"
    }
   ],
   "source": [
    "# Build graph of patents that have been cited 2 or more times.\n",
    "graph2 = trim_degrees(basegraph, 1)\n",
    "graph2.number_of_nodes()\n",
    "graph2.number_of_edges()"
   ]
  },
  {
   "cell_type": "markdown",
   "metadata": {},
   "source": [
    "## Eigenvector Centrality\n",
    "We compare eigenvector centrality for the main network of patents, as well as the network of those patents that have 2 or more citations.\n",
    "To show eigenvector centrality for each graph, we select the top 100 nodes (according to eigenvector centrality values) for each."
   ]
  },
  {
   "cell_type": "markdown",
   "metadata": {},
   "source": [
    "### Compute eigenvector centrality for top 100 nodes in each graph"
   ]
  },
  {
   "cell_type": "code",
   "execution_count": 9,
   "metadata": {},
   "outputs": [],
   "source": [
    "def top_eigenvector_centrality_nodes(graph, count=100):\n",
    "    ec = nx.eigenvector_centrality(graph)\n",
    "    all_nodes = [(node, ec[node]) for node in ec]\n",
    "    top_nodes = sorted(all_nodes, key = lambda x : x[1], reverse=True)\n",
    "    top_nodes = top_nodes[0:count]\n",
    "    return top_nodes"
   ]
  },
  {
   "cell_type": "code",
   "execution_count": 10,
   "metadata": {},
   "outputs": [],
   "source": [
    "t1 = top_eigenvector_centrality_nodes(basegraph)\n",
    "t2 = top_eigenvector_centrality_nodes(graph2)\n",
    "\n",
    "t1 = [elem[0] for elem in t1]\n",
    "t2 = [elem[0] for elem in t2]\n",
    "\n",
    "G1 = basegraph.subgraph(t1)\n",
    "G2 = basegraph.subgraph(t2)\n",
    "\n",
    "tec_base = nx.eigenvector_centrality(G1, max_iter=4000)\n",
    "tec_graph2 = nx.eigenvector_centrality(G2, max_iter=4000)"
   ]
  },
  {
   "cell_type": "markdown",
   "metadata": {},
   "source": [
    "### Display histograms of eigenvector centralities for the two graphs\n",
    "\n",
    "* main citation graph \n",
    "* subgraph of patents with degree >1"
   ]
  },
  {
   "cell_type": "code",
   "execution_count": 11,
   "metadata": {},
   "outputs": [],
   "source": [
    "tec_base = [(k,v) for k,v in tec_base.items()]\n",
    "tec_base = sorted(tec_base, key = lambda x : x[1], reverse=True)\n",
    "tec_base_eigen = [t[1] for t in tec_base]\n",
    "\n",
    "tec_graph2 = [(k,v) for k,v in tec_graph2.items()]\n",
    "tec_graph2 = sorted(tec_graph2, key = lambda x : x[1], reverse=True)\n",
    "tec_graph2_eigen = [t[1] for t in tec_graph2]"
   ]
  },
  {
   "cell_type": "code",
   "execution_count": 12,
   "metadata": {},
   "outputs": [
    {
     "data": {
      "image/png": "[encoded data removed]",
      "text/plain": [
       "<Figure size 432x288 with 1 Axes>"
      ]
     },
     "metadata": {},
     "output_type": "display_data"
    }
   ],
   "source": [
    "t1 = plt.title(\"Histogram of Eigenvector Centralities for Patent Citation Graph\")\n",
    "h1 = plt.hist(tec_base_eigen)"
   ]
  },
  {
   "cell_type": "code",
   "execution_count": 13,
   "metadata": {},
   "outputs": [
    {
     "data": {
      "image/png": "[encoded data removed]",
      "text/plain": [
       "<Figure size 432x288 with 1 Axes>"
      ]
     },
     "metadata": {},
     "output_type": "display_data"
    }
   ],
   "source": [
    "t2 = plt.title(\"Histogram of Eigenvector Centralities for Subgraph (deg>1)\")\n",
    "h2 = plt.hist(tec_graph2_eigen)"
   ]
  },
  {
   "cell_type": "markdown",
   "metadata": {},
   "source": [
    "## Degree Centrality\n",
    "\n",
    "We compare Degree centrality for the main network of patents, as well as the network of\n",
    "those patents that have been cited one or more times."
   ]
  },
  {
   "cell_type": "code",
   "execution_count": 14,
   "metadata": {},
   "outputs": [],
   "source": [
    "def top_degree_centrality_nodes(graph, count=100):\n",
    "    ec = nx.degree_centrality(graph)\n",
    "    all_nodes = [(node, ec[node]) for node in ec]\n",
    "    top_nodes = sorted(all_nodes, key = lambda x : x[1], reverse=True)\n",
    "    top_nodes = top_nodes[0:count]\n",
    "    return top_nodes"
   ]
  },
  {
   "cell_type": "code",
   "execution_count": 15,
   "metadata": {},
   "outputs": [],
   "source": [
    "t1 = top_degree_centrality_nodes(basegraph)\n",
    "t2 = top_degree_centrality_nodes(graph2)\n",
    "\n",
    "t1 = [elem[0] for elem in t1]\n",
    "t2 = [elem[0] for elem in t2]\n",
    "\n",
    "G1 = basegraph.subgraph(t1)\n",
    "G2 = basegraph.subgraph(t2)\n",
    "\n",
    "degc_base = nx.degree_centrality(G1)\n",
    "degc_graph2 = nx.degree_centrality(G2)\n",
    "\n",
    "degc_base = [(k,v) for k,v in degc_base.items()]\n",
    "degc_base = sorted(degc_base, key = lambda x : x[1], reverse=True)\n",
    "degc_base_vals = [t[1] for t in degc_base]\n",
    "\n",
    "degc_graph2 = [(k,v) for k,v in degc_graph2.items()]\n",
    "degc_graph2 = sorted(degc_graph2, key = lambda x : x[1], reverse=True)\n",
    "degc_graph2_vals = [t[1] for t in degc_graph2]"
   ]
  },
  {
   "cell_type": "code",
   "execution_count": 16,
   "metadata": {},
   "outputs": [
    {
     "data": {
      "image/png": "[encoded data removed]",
      "text/plain": [
       "<Figure size 432x288 with 1 Axes>"
      ]
     },
     "metadata": {},
     "output_type": "display_data"
    }
   ],
   "source": [
    "t1 = plt.title(\"Histogram of Degree Centralities for Patent Citation Graph\")\n",
    "h1 = plt.hist(degc_base_vals)"
   ]
  },
  {
   "cell_type": "code",
   "execution_count": 17,
   "metadata": {},
   "outputs": [
    {
     "data": {
      "image/png": "[encoded data removed]",
      "text/plain": [
       "<Figure size 432x288 with 1 Axes>"
      ]
     },
     "metadata": {},
     "output_type": "display_data"
    }
   ],
   "source": [
    "t2 = plt.title(\"Histogram of Degree Centralities for Subgraph (deg>1)\")\n",
    "h2 = plt.hist(degc_graph2_vals)"
   ]
  },
  {
   "cell_type": "markdown",
   "metadata": {},
   "source": [
    "### References\n",
    "\n",
    "1. https://networkx.github.io/documentation/stable/reference/index.html\n",
    "2. Tsvetovat, Maksim and Kouznetsov, Alexander (2011). Social Network Analysis for Startups. O'Reilly Media, Inc.\"\n",
    "3. Patent Citation Network. http://snap.stanford.edu/data/cit-Patents.html\n"
   ]
  }
 ],
 "metadata": {
  "kernelspec": {
   "display_name": "Python 3",
   "language": "python",
   "name": "python3"
  },
  "language_info": {
   "codemirror_mode": {
    "name": "ipython",
    "version": 3
   },
   "file_extension": ".py",
   "mimetype": "text/x-python",
   "name": "python",
   "nbconvert_exporter": "python",
   "pygments_lexer": "ipython3",
   "version": "3.6.8"
  }
 },
 "nbformat": 4,
 "nbformat_minor": 2
}
